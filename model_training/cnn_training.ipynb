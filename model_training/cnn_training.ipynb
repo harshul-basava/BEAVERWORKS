{
 "cells": [
  {
   "cell_type": "code",
   "execution_count": 1,
   "metadata": {},
   "outputs": [
    {
     "name": "stdout",
     "output_type": "stream",
     "text": [
      "         Class Injured Gender Item                      Filename\n",
      "count      500     500    500  293                           500\n",
      "unique       2       2      2    3                           500\n",
      "top     Zombie   False   Male  Bow  train_dataset/test_00000.png\n",
      "freq       257     312    260  109                             1\n"
     ]
    }
   ],
   "source": [
    "import pandas as pd\n",
    "import os\n",
    "# os.chdir(\"..\")\n",
    "# os.chdir(\"data\")\n",
    "df = pd.read_csv('./data/train_metadata.csv')\n",
    "print(df.describe())"
   ]
  },
  {
   "cell_type": "markdown",
   "metadata": {},
   "source": [
    "# train cnn example"
   ]
  },
  {
   "cell_type": "code",
   "execution_count": 2,
   "metadata": {},
   "outputs": [],
   "source": [
    "import torch, timm, PIL,os, sklearn, gc\n",
    "import sklearn.preprocessing\n",
    "import sklearn.model_selection\n",
    "from timm.scheduler import CosineLRScheduler\n",
    "from tqdm import tqdm\n",
    "import cv2\n",
    "import pandas as pd\n",
    "import numpy as np\n",
    "from PIL import Image\n",
    "import torchvision.transforms as transforms\n",
    "%matplotlib inline\n",
    "import matplotlib.pyplot as plt\n",
    "\n",
    "\n",
    "import torch.nn as nn\n",
    "import torch.nn.functional as F"
   ]
  },
  {
   "cell_type": "markdown",
   "metadata": {},
   "source": [
    "# define image transformations and augmentations (if you want)"
   ]
  },
  {
   "cell_type": "code",
   "execution_count": 3,
   "metadata": {},
   "outputs": [],
   "source": [
    "train_transform = transforms.Compose([\n",
    "    transforms.ToTensor(),\n",
    "    transforms.Normalize(mean=[0.485, 0.456, 0.406], std=[0.229, 0.224, 0.225]),\n",
    "])\n",
    "val_transform = transforms.Compose([\n",
    "    transforms.ToTensor(),\n",
    "    transforms.Normalize(mean=[0.485, 0.456, 0.406], std=[0.229, 0.224, 0.225]),\n",
    "])"
   ]
  },
  {
   "cell_type": "markdown",
   "metadata": {},
   "source": [
    "# define dataset"
   ]
  },
  {
   "cell_type": "code",
   "execution_count": 4,
   "metadata": {},
   "outputs": [],
   "source": [
    "\n",
    "class Dataset(torch.utils.data.Dataset):\n",
    "    def __init__(self, df, transforms, base_dir =\"./data\",):\n",
    "        self.df = df\n",
    "        self.base_dir = base_dir\n",
    "        self.transforms = transforms\n",
    "    def __len__(self):\n",
    "        return len(self.df)\n",
    "    def __getitem__(self, i):\n",
    "        row = self.df.iloc[i]\n",
    "        \n",
    "        img_path = row['Filename']\n",
    "        target = row['state']\n",
    "        \n",
    "        image = Image.open(os.path.join(self.base_dir,img_path))\n",
    "        image = train_transform(image)\n",
    "        return image, torch.tensor(target).long()"
   ]
  },
  {
   "cell_type": "markdown",
   "metadata": {},
   "source": [
    "# read data and get holdout set\n",
    "would be ideal to set random state to ensure the splits are consistent"
   ]
  },
  {
   "cell_type": "code",
   "execution_count": 5,
   "metadata": {},
   "outputs": [],
   "source": [
    "test_df = pd.read_csv('./data/test_metadata.csv')\n",
    "train_df = pd.read_csv('./data/train_metadata.csv')"
   ]
  },
  {
   "cell_type": "code",
   "execution_count": 6,
   "metadata": {},
   "outputs": [],
   "source": [
    "import sys; sys.path.append('../')\n",
    "from endpoints.data_parser import datarow_to_state\n",
    "from gameplay.enums import State\n",
    "# encode categorical data into numbers\n",
    "enc = sklearn.preprocessing.LabelEncoder()\n",
    "\n",
    "train_df['state'] = train_df.apply(datarow_to_state, axis=1)\n",
    "test_df['state'] = test_df.apply(datarow_to_state, axis=1)\n",
    "\n",
    "enc.fit(train_df.state)\n",
    "from gameplay.humanoid import Humanoid\n",
    "enc.classes_ = np.array(Humanoid.get_all_states(), dtype=object)\n",
    "train_df.state = enc.transform(train_df.state)\n",
    "test_df.state = enc.transform(test_df.state)"
   ]
  },
  {
   "cell_type": "markdown",
   "metadata": {},
   "source": [
    "# begin setting up training pipeline\n",
    "use class weights since this is imbalanced classification"
   ]
  },
  {
   "cell_type": "code",
   "execution_count": 7,
   "metadata": {},
   "outputs": [],
   "source": [
    "#hyperparams\n",
    "model_name = 'default' #'maxvit_tiny_tf_512' # resnet10t\n",
    "batch_size = 16\n",
    "learning_rate = 2e-4\n",
    "weight_decay = 1e-8 # l2 regularization\n",
    "epochs = 5\n",
    "device = 'cuda' if torch.cuda.is_available() else 'cpu'\n",
    "max_grad_norm = 100 #max gradient value\n",
    "\n",
    "epochs_warmup=1"
   ]
  },
  {
   "cell_type": "code",
   "execution_count": 8,
   "metadata": {},
   "outputs": [],
   "source": [
    "train_ds = Dataset(train_df,train_transform)\n",
    "val_ds = Dataset(test_df,val_transform)\n",
    "loader_train = torch.utils.data.DataLoader(train_ds, batch_size=batch_size,\n",
    "                 num_workers=0, pin_memory=False, shuffle=True, drop_last=True)\n",
    "loader_val = torch.utils.data.DataLoader(val_ds , batch_size=batch_size,\n",
    "                 num_workers=0, pin_memory=False)"
   ]
  },
  {
   "cell_type": "code",
   "execution_count": 9,
   "metadata": {},
   "outputs": [],
   "source": [
    "class_weights=sklearn.utils.class_weight.compute_class_weight('balanced',classes=np.unique(train_df.state),y=train_df.state)\n",
    "class_weights=torch.tensor(class_weights,dtype=torch.float).to(device)"
   ]
  },
  {
   "cell_type": "code",
   "execution_count": 10,
   "metadata": {},
   "outputs": [
    {
     "data": {
      "text/plain": [
       "20"
      ]
     },
     "execution_count": 10,
     "metadata": {},
     "output_type": "execute_result"
    }
   ],
   "source": [
    "# Create a neural net class\n",
    "class DefaultCNN(nn.Module):\n",
    "\n",
    "    # Defining the Constructor\n",
    "    def __init__(self, num_classes_=4):\n",
    "        # In the init function, we define each layer we will use in our model\n",
    "        super(DefaultCNN, self).__init__()\n",
    "\n",
    "        # Our images are RGB, so we have input channels = 3.\n",
    "        # We will apply 12 filters in the first convolutional layer\n",
    "        self.conv1 = nn.Conv2d(in_channels=3, out_channels=12, kernel_size=2, stride=1, padding=1)\n",
    "\n",
    "        # A second convolutional layer takes 12 input channels, and generates 24 outputs\n",
    "        self.conv2 = nn.Conv2d(in_channels=12, out_channels=24, kernel_size=3, stride=1, padding=1)\n",
    "\n",
    "        # We in the end apply max pooling with a kernel size of 2\n",
    "        self.pool = nn.MaxPool2d(kernel_size=2)\n",
    "\n",
    "        # A drop layer deletes 20% of the features to help prevent overfitting\n",
    "        self.drop = nn.Dropout2d(p=0.2)\n",
    "\n",
    "        # Our 512x512 image tensors will be pooled twice with a kernel size of 2. 512/2/2 is 128  32.\n",
    "        # This means that our feature tensors are now 128 x 128, and we've generated 24 of them\n",
    "        # We need to flatten these in order to feed them to a fully-connected layer\n",
    "        self.fc = nn.Linear(in_features=128 * 128 * 24, out_features=num_classes_)\n",
    "\n",
    "    def forward(self, x):\n",
    "        # In the forward function, pass the data through the layers we defined in the init function\n",
    "\n",
    "        # Use a ReLU activation function after layer 1 (convolution 1 and pool)\n",
    "        x = F.relu(self.pool(self.conv1(x)))\n",
    "\n",
    "        # Use a ReLU activation function after layer 2\n",
    "        x = F.relu(self.pool(self.conv2(x)))\n",
    "\n",
    "        # Select some features to drop to prevent overfitting (only drop during training)\n",
    "        x = F.dropout(self.drop(x), training=self.training)\n",
    "\n",
    "        # Flatten\n",
    "        x = x.view(-1, 128 * 128 * 24)\n",
    "        # Feed to fully-connected layer to predict class\n",
    "\n",
    "        x = self.fc(x)\n",
    "        return x\n",
    "if model_name == 'default':\n",
    "    model = DefaultCNN()\n",
    "else:\n",
    "    model =  timm.create_model(model_name, num_classes=len(class_weights),pretrained=True)\n",
    "model.to(device)\n",
    "\n",
    "optimizer = torch.optim.AdamW(model.parameters(), lr=learning_rate, weight_decay=weight_decay)\n",
    "criterion = torch.nn.CrossEntropyLoss(weight=class_weights)\n",
    "\n",
    "nbatch = len(loader_train)\n",
    "warmup = epochs_warmup * nbatch  # number of warmup steps\n",
    "nsteps = epochs * nbatch        # number of total steps\n",
    "scheduler = CosineLRScheduler(optimizer,\n",
    "              warmup_t=warmup, warmup_lr_init=1e-6, warmup_prefix=True, # 1 epoch of warmup\n",
    "              t_initial=(nsteps - warmup), lr_min=1e-6)                # 3 epochs of cosine\n",
    "\n",
    "gc.collect()"
   ]
  },
  {
   "cell_type": "markdown",
   "metadata": {},
   "source": [
    "# validation loop"
   ]
  },
  {
   "cell_type": "code",
   "execution_count": 11,
   "metadata": {},
   "outputs": [],
   "source": [
    "def evaluate(model, loader_val):\n",
    "    was_training = model.training\n",
    "    model.eval()\n",
    "\n",
    "    loss_sum = 0.0\n",
    "    n_sum = 0\n",
    "    y_all = []\n",
    "    y_pred_all = []\n",
    "    for img, y in loader_val:\n",
    "        n = y.size(0)\n",
    "        img = img.to(device)\n",
    "        y = y.to(device)\n",
    "\n",
    "        with torch.no_grad():\n",
    "            y_pred = model(img)\n",
    "        loss = criterion(y_pred, y)\n",
    "\n",
    "        n_sum += n\n",
    "        loss_sum += n * loss.item()\n",
    "        \n",
    "        \n",
    "        y_all.append(y.cpu().detach().numpy())\n",
    "        y_pred_all.append(torch.nn.functional.softmax(y_pred,1).cpu().detach().numpy())\n",
    "\n",
    "        del loss, y_pred, img, y\n",
    "        gc.collect()\n",
    "\n",
    "    loss_val = loss_sum / n_sum\n",
    "\n",
    "    y = np.concatenate(y_all)\n",
    "    y_pred = np.concatenate(y_pred_all)\n",
    "\n",
    "    ret = {'loss': loss_val,\n",
    "           'y': y,\n",
    "           'y_pred': y_pred,}\n",
    "    gc.collect()\n",
    "    return ret"
   ]
  },
  {
   "cell_type": "markdown",
   "metadata": {},
   "source": [
    "# training loop"
   ]
  },
  {
   "cell_type": "code",
   "execution_count": 12,
   "metadata": {},
   "outputs": [],
   "source": [
    "# out = model(torch.zeros(2,3,512,512))\n",
    "# out"
   ]
  },
  {
   "cell_type": "code",
   "execution_count": 13,
   "metadata": {},
   "outputs": [],
   "source": [
    "# torch.nn.functional.softmax(out,1)"
   ]
  },
  {
   "cell_type": "code",
   "execution_count": 14,
   "metadata": {},
   "outputs": [
    {
     "name": "stderr",
     "output_type": "stream",
     "text": [
      "31it [00:21,  1.47it/s]\n"
     ]
    },
    {
     "name": "stdout",
     "output_type": "stream",
     "text": [
      "2.402237548828125\n"
     ]
    },
    {
     "name": "stderr",
     "output_type": "stream",
     "text": [
      "31it [00:21,  1.46it/s]\n"
     ]
    },
    {
     "name": "stdout",
     "output_type": "stream",
     "text": [
      "1.2034077668190002\n"
     ]
    },
    {
     "name": "stderr",
     "output_type": "stream",
     "text": [
      "31it [00:21,  1.47it/s]\n"
     ]
    },
    {
     "name": "stdout",
     "output_type": "stream",
     "text": [
      "1.1123835229873658\n"
     ]
    },
    {
     "name": "stderr",
     "output_type": "stream",
     "text": [
      "31it [00:20,  1.48it/s]\n"
     ]
    },
    {
     "name": "stdout",
     "output_type": "stream",
     "text": [
      "1.086734070777893\n"
     ]
    },
    {
     "name": "stderr",
     "output_type": "stream",
     "text": [
      "31it [00:20,  1.51it/s]\n"
     ]
    },
    {
     "name": "stdout",
     "output_type": "stream",
     "text": [
      "1.1271117734909057\n"
     ]
    }
   ],
   "source": [
    "best_loss = 1000\n",
    "torch.cuda.empty_cache()\n",
    "for iepoch in range(epochs):\n",
    "    model.train()\n",
    "    for ibatch, (img, y) in tqdm(enumerate(loader_train)):\n",
    "        img = img.to(device)\n",
    "        y = y.to(device)\n",
    "\n",
    "        optimizer.zero_grad()\n",
    "        \n",
    "        y_pred = model(img)\n",
    "        loss = criterion(y_pred, y)\n",
    "\n",
    "        loss_train = loss.item()\n",
    "\n",
    "        loss.backward()\n",
    "\n",
    "        grad_norm = torch.nn.utils.clip_grad_norm_(model.parameters(),max_grad_norm)\n",
    "\n",
    "        optimizer.step()\n",
    "        \n",
    "        scheduler.step(iepoch * nbatch + ibatch + 1)\n",
    "        \n",
    "        gc.collect()\n",
    "    validation_results = evaluate(model, loader_val)\n",
    "    print(validation_results['loss'])\n",
    "    best_loss = min(best_loss,validation_results['loss'])\n",
    "    if best_loss ==validation_results['loss']:\n",
    "        ofilename = 'baseline.pth'\n",
    "        torch.save(model.state_dict(), ofilename)\n",
    "    gc.collect()"
   ]
  },
  {
   "cell_type": "code",
   "execution_count": 15,
   "metadata": {},
   "outputs": [
    {
     "data": {
      "text/plain": [
       "array([0, 1, 1, 0, 3, 3, 3, 1, 1, 1, 3, 0, 0, 2, 1, 1, 3, 3, 2, 3, 1, 1,\n",
       "       0, 0, 3, 3, 1, 3, 1, 0, 2, 3, 0, 3, 2, 3, 1, 3, 1, 1, 0, 1, 1, 3,\n",
       "       0, 0, 2, 0, 1, 3, 3, 0, 1, 0, 1, 3, 1, 1, 1, 1, 2, 1, 3, 3, 3, 1,\n",
       "       0, 1, 1, 3, 0, 3, 0, 1, 0, 1, 3, 1, 0, 0, 2, 1, 1, 1, 1, 1, 1, 0,\n",
       "       1, 1, 3, 1, 3, 0, 1, 2, 1, 3, 3, 3, 1, 3, 1, 0, 1, 1, 3, 3, 1, 1,\n",
       "       3, 0, 1, 1, 1, 1, 1, 1, 2, 1, 0, 0, 3, 1, 3, 0, 1, 2, 1, 1, 0, 2,\n",
       "       1, 2, 1, 2, 0, 0, 1, 2, 3, 3, 3, 1, 1, 2, 3, 2, 1, 0, 1, 1, 2, 0,\n",
       "       3, 0, 1, 1, 0, 3, 1, 2, 0, 0, 0, 1, 0, 1, 3, 3, 0, 1, 3, 2, 3, 3,\n",
       "       2, 1, 1, 0, 2, 3, 1, 2, 3, 0, 1, 1, 3, 0, 2, 0, 1, 0, 1, 1, 1, 1,\n",
       "       3, 3], dtype=int64)"
      ]
     },
     "execution_count": 15,
     "metadata": {},
     "output_type": "execute_result"
    }
   ],
   "source": [
    "y_pred = np.array([np.argmax(x) for x in validation_results['y_pred']])\n",
    "y_pred"
   ]
  },
  {
   "cell_type": "code",
   "execution_count": 16,
   "metadata": {},
   "outputs": [
    {
     "data": {
      "text/plain": [
       "0"
      ]
     },
     "execution_count": 16,
     "metadata": {},
     "output_type": "execute_result"
    }
   ],
   "source": [
    "y_pred[0]"
   ]
  },
  {
   "cell_type": "code",
   "execution_count": 17,
   "metadata": {},
   "outputs": [
    {
     "data": {
      "text/plain": [
       "array([1, 1, 1, 1, 3, 3, 2, 0, 1, 3, 1, 1, 1, 3, 0, 1, 3, 2, 3, 2, 1, 1,\n",
       "       0, 1, 3, 2, 1, 3, 1, 3, 3, 3, 0, 3, 3, 2, 1, 3, 1, 1, 1, 1, 0, 3,\n",
       "       0, 3, 3, 0, 0, 3, 2, 0, 1, 1, 1, 1, 1, 1, 0, 1, 3, 0, 2, 2, 2, 1,\n",
       "       1, 1, 1, 1, 3, 3, 0, 1, 0, 1, 3, 0, 1, 0, 3, 1, 0, 1, 1, 1, 0, 0,\n",
       "       0, 0, 2, 0, 3, 0, 1, 3, 1, 3, 1, 3, 1, 3, 1, 0, 1, 0, 3, 2, 0, 1,\n",
       "       3, 1, 0, 0, 1, 1, 0, 2, 2, 1, 1, 0, 3, 1, 2, 1, 1, 2, 2, 1, 1, 2,\n",
       "       1, 3, 2, 2, 1, 0, 0, 2, 3, 1, 3, 1, 0, 3, 3, 2, 1, 0, 1, 1, 3, 1,\n",
       "       1, 1, 0, 0, 1, 3, 1, 0, 2, 1, 0, 1, 3, 0, 3, 2, 0, 1, 1, 3, 2, 3,\n",
       "       2, 0, 1, 0, 3, 0, 1, 2, 2, 1, 1, 1, 2, 1, 2, 1, 0, 1, 1, 0, 1, 0,\n",
       "       3, 0], dtype=int64)"
      ]
     },
     "execution_count": 17,
     "metadata": {},
     "output_type": "execute_result"
    }
   ],
   "source": [
    "validation_results['y']"
   ]
  },
  {
   "cell_type": "markdown",
   "metadata": {},
   "source": [
    "# view confusion matrix of predicted values"
   ]
  },
  {
   "cell_type": "code",
   "execution_count": 18,
   "metadata": {},
   "outputs": [],
   "source": [
    "matrix = sklearn.metrics.confusion_matrix(validation_results['y'],y_pred,)"
   ]
  },
  {
   "cell_type": "code",
   "execution_count": 19,
   "metadata": {},
   "outputs": [
    {
     "data": {
      "text/plain": [
       "array([[17, 26,  1,  2],\n",
       "       [22, 52,  0,  7],\n",
       "       [ 1,  3,  9, 16],\n",
       "       [ 4,  1, 13, 26]], dtype=int64)"
      ]
     },
     "execution_count": 19,
     "metadata": {},
     "output_type": "execute_result"
    }
   ],
   "source": [
    "matrix"
   ]
  },
  {
   "cell_type": "code",
   "execution_count": 20,
   "metadata": {},
   "outputs": [
    {
     "data": {
      "image/png": "[encoded data removed]",
      "text/plain": [
       "<Figure size 640x480 with 2 Axes>"
      ]
     },
     "metadata": {},
     "output_type": "display_data"
    }
   ],
   "source": [
    "sklearn.metrics.ConfusionMatrixDisplay(matrix,display_labels=  enc.classes_).plot()\n",
    "plt.savefig('CNN-logs/baseline_cmatrix_new.png')\n",
    "plt.show()"
   ]
  },
  {
   "cell_type": "code",
   "execution_count": null,
   "metadata": {},
   "outputs": [],
   "source": []
  }
 ],
 "metadata": {
  "kernelspec": {
   "display_name": "Python 3 (ipykernel)",
   "language": "python",
   "name": "python3"
  },
  "language_info": {
   "codemirror_mode": {
    "name": "ipython",
    "version": 3
   },
   "file_extension": ".py",
   "mimetype": "text/x-python",
   "name": "python",
   "nbconvert_exporter": "python",
   "pygments_lexer": "ipython3",
   "version": "3.11.9"
  }
 },
 "nbformat": 4,
 "nbformat_minor": 4
}
